{
 "cells": [
  {
   "cell_type": "code",
   "execution_count": 50,
   "metadata": {},
   "outputs": [
    {
     "data": {
      "application/vnd.jupyter.widget-view+json": {
       "model_id": "2f70f6ad605a4742a1df1b2f43a1f942",
       "version_major": 2,
       "version_minor": 0
      },
      "text/plain": [
       "Widget(value=\"<iframe src='http://localhost:49906/index.html?ui=P_0x2855e9db4c0_37&reconnect=auto' style='widt…"
      ]
     },
     "metadata": {},
     "output_type": "display_data"
    }
   ],
   "source": [
    "import pyvista as pv\n",
    "from pyvista import examples\n",
    "\n",
    "mesh = examples.download_bunny_coarse()\n",
    "\n",
    "p = pv.Plotter()\n",
    "p.add_mesh(mesh, show_edges=True, color='white')\n",
    "p.add_mesh(pv.PolyData(mesh.points), color='red',\n",
    "       point_size=10, render_points_as_spheres=True)\n",
    "p.camera_position = [(0.02, 0.30, 0.73),\n",
    "                 (0.02, 0.03, -0.022),\n",
    "                 (-0.03, 0.94, -0.34)]\n",
    "p.show(screenshot='bunny_nodes.png')"
   ]
  },
  {
   "cell_type": "code",
   "execution_count": 48,
   "metadata": {},
   "outputs": [
    {
     "data": {
      "application/vnd.jupyter.widget-view+json": {
       "model_id": "644f48c08d6d413c87ce4c6e079f4eb0",
       "version_major": 2,
       "version_minor": 0
      },
      "text/plain": [
       "Widget(value=\"<iframe src='http://localhost:49906/index.html?ui=P_0x285057990d0_35&reconnect=auto' style='widt…"
      ]
     },
     "metadata": {},
     "output_type": "display_data"
    }
   ],
   "source": [
    "p = pv.Plotter(lighting='none')\n",
    "light = pv.Light(position=(-1, 4, 1), color='red')\n",
    "light.positional = True\n",
    "mesh = examples.download_bunny()\n",
    "mesh.rotate_x(90)\n",
    "mesh.rotate_z(180)\n",
    "p.add_mesh(mesh, specular=1.0, diffuse=0.7, smooth_shading=True)\n",
    "p.add_light(light)\n",
    "p.show(screenshot='ominous_bunny.png')"
   ]
  },
  {
   "cell_type": "code",
   "execution_count": 49,
   "metadata": {},
   "outputs": [
    {
     "data": {
      "application/vnd.jupyter.widget-view+json": {
       "model_id": "bdcd8d025f6b4033ab26735c742658c0",
       "version_major": 2,
       "version_minor": 0
      },
      "text/plain": [
       "Widget(value=\"<iframe src='http://localhost:49906/index.html?ui=P_0x2855b9efb50_36&reconnect=auto' style='widt…"
      ]
     },
     "metadata": {},
     "output_type": "display_data"
    }
   ],
   "source": [
    "dataset = examples.download_office()\n",
    "\n",
    "bounds = [2,4.5, 2,4.5, 1,3]\n",
    "clipped = dataset.clip_box(bounds)\n",
    "\n",
    "p = pv.Plotter()\n",
    "p.add_mesh(dataset, style='wireframe', color='blue', label='Input')\n",
    "p.add_mesh(clipped, label='Clipped')\n",
    "p.add_legend()\n",
    "p.show()"
   ]
  },
  {
   "cell_type": "code",
   "execution_count": 5,
   "metadata": {},
   "outputs": [
    {
     "data": {
      "application/vnd.jupyter.widget-view+json": {
       "model_id": "4ebd206ef81344c88dc1e3931efd03c7",
       "version_major": 2,
       "version_minor": 0
      },
      "text/plain": [
       "Widget(value=\"<iframe src='http://localhost:49906/index.html?ui=P_0x2855166c5e0_4&reconnect=auto' style='width…"
      ]
     },
     "metadata": {},
     "output_type": "display_data"
    }
   ],
   "source": [
    "import matplotlib.pyplot as plt\n",
    "import numpy as np\n",
    "mesh = examples.load_channels()\n",
    "# define a categorical colormap\n",
    "\n",
    "cmap = plt.cm.get_cmap(\"viridis\", 4)\n",
    "\n",
    "\n",
    "mesh.plot(cmap=cmap)"
   ]
  },
  {
   "cell_type": "code",
   "execution_count": 6,
   "metadata": {},
   "outputs": [
    {
     "data": {
      "application/vnd.jupyter.widget-view+json": {
       "model_id": "34ab4e69c1354735a7b38e909309d593",
       "version_major": 2,
       "version_minor": 0
      },
      "text/plain": [
       "Widget(value=\"<iframe src='http://localhost:49906/index.html?ui=P_0x2855b9efcd0_5&reconnect=auto' style='width…"
      ]
     },
     "metadata": {},
     "output_type": "display_data"
    }
   ],
   "source": [
    "slices = mesh.slice_orthogonal()\n",
    "\n",
    "slices.plot(cmap=cmap)"
   ]
  },
  {
   "cell_type": "code",
   "execution_count": 7,
   "metadata": {},
   "outputs": [
    {
     "data": {
      "application/vnd.jupyter.widget-view+json": {
       "model_id": "207674e5848f4e669bb5bddc846e3c50",
       "version_major": 2,
       "version_minor": 0
      },
      "text/plain": [
       "Widget(value=\"<iframe src='http://localhost:49906/index.html?ui=P_0x2855ea481f0_6&reconnect=auto' style='width…"
      ]
     },
     "metadata": {},
     "output_type": "display_data"
    }
   ],
   "source": [
    "slices = mesh.slice_orthogonal(x=20, y=20, z=30)\n",
    "slices.plot(cmap=cmap)"
   ]
  },
  {
   "cell_type": "code",
   "execution_count": 8,
   "metadata": {},
   "outputs": [
    {
     "data": {
      "application/vnd.jupyter.widget-view+json": {
       "model_id": "a874e22ba0e1407b835b2f05f4424bfb",
       "version_major": 2,
       "version_minor": 0
      },
      "text/plain": [
       "Widget(value=\"<iframe src='http://localhost:49906/index.html?ui=P_0x2855b9ef940_7&reconnect=auto' style='width…"
      ]
     },
     "metadata": {},
     "output_type": "display_data"
    }
   ],
   "source": [
    "slices = mesh.slice_along_axis(n=7, axis=\"y\")\n",
    "\n",
    "slices.plot(cmap=cmap)"
   ]
  },
  {
   "cell_type": "code",
   "execution_count": 9,
   "metadata": {},
   "outputs": [
    {
     "data": {
      "application/vnd.jupyter.widget-view+json": {
       "model_id": "8652d1bad3464214bf2facd2e62c1349",
       "version_major": 2,
       "version_minor": 0
      },
      "text/plain": [
       "Widget(value=\"<iframe src='http://localhost:49906/index.html?ui=P_0x2855ea51c70_8&reconnect=auto' style='width…"
      ]
     },
     "metadata": {},
     "output_type": "display_data"
    }
   ],
   "source": [
    "# Single slice - origin defaults to the center of the mesh\n",
    "single_slice = mesh.slice(normal=[1, 1, 0])\n",
    "\n",
    "p = pv.Plotter()\n",
    "p.add_mesh(mesh.outline(), color=\"k\")\n",
    "p.add_mesh(single_slice, cmap=cmap)\n",
    "p.show()"
   ]
  },
  {
   "cell_type": "code",
   "execution_count": 11,
   "metadata": {},
   "outputs": [
    {
     "data": {
      "application/vnd.jupyter.widget-view+json": {
       "model_id": "78e8681678044bd4a2e203750491822b",
       "version_major": 2,
       "version_minor": 0
      },
      "text/plain": [
       "Widget(value=\"<iframe src='http://localhost:49906/index.html?ui=P_0x2855ea55850_10&reconnect=auto' style='widt…"
      ]
     },
     "metadata": {},
     "output_type": "display_data"
    }
   ],
   "source": [
    "mesh = examples.load_random_hills()\n",
    "\n",
    "contours = mesh.contour()\n",
    "\n",
    "p = pv.Plotter()\n",
    "p.add_mesh(mesh, opacity=0.85)\n",
    "p.add_mesh(contours, color=\"white\", line_width=5)\n",
    "p.show()"
   ]
  },
  {
   "cell_type": "code",
   "execution_count": 12,
   "metadata": {},
   "outputs": [
    {
     "data": {
      "text/html": [
       "<table><tr><th>Header</th><th>Data Arrays</th></tr><tr><td>\n",
       "<table>\n",
       "<tr><th>UniformGrid</th><th>Information</th></tr>\n",
       "<tr><td>N Cells</td><td>6998400</td></tr>\n",
       "<tr><td>N Points</td><td>7109137</td></tr>\n",
       "<tr><td>X Bounds</td><td>0.000e+00, 1.800e+02</td></tr>\n",
       "<tr><td>Y Bounds</td><td>0.000e+00, 2.160e+02</td></tr>\n",
       "<tr><td>Z Bounds</td><td>0.000e+00, 1.800e+02</td></tr>\n",
       "<tr><td>Dimensions</td><td>181, 217, 181</td></tr>\n",
       "<tr><td>Spacing</td><td>1.000e+00, 1.000e+00, 1.000e+00</td></tr>\n",
       "<tr><td>N Arrays</td><td>1</td></tr>\n",
       "</table>\n",
       "\n",
       "</td><td>\n",
       "<table>\n",
       "<tr><th>Name</th><th>Field</th><th>Type</th><th>N Comp</th><th>Min</th><th>Max</th></tr>\n",
       "<tr><td><b>image_data</b></td><td>Points</td><td>uint8</td><td>1</td><td>0.000e+00</td><td>2.550e+02</td></tr>\n",
       "</table>\n",
       "\n",
       "</td></tr> </table>"
      ],
      "text/plain": [
       "UniformGrid (0x2855e9fefa0)\n",
       "  N Cells:      6998400\n",
       "  N Points:     7109137\n",
       "  X Bounds:     0.000e+00, 1.800e+02\n",
       "  Y Bounds:     0.000e+00, 2.160e+02\n",
       "  Z Bounds:     0.000e+00, 1.800e+02\n",
       "  Dimensions:   181, 217, 181\n",
       "  Spacing:      1.000e+00, 1.000e+00, 1.000e+00\n",
       "  N Arrays:     1"
      ]
     },
     "execution_count": 12,
     "metadata": {},
     "output_type": "execute_result"
    }
   ],
   "source": [
    "import numpy as np\n",
    "\n",
    "vol = examples.download_brain()\n",
    "vol"
   ]
  },
  {
   "cell_type": "code",
   "execution_count": 13,
   "metadata": {},
   "outputs": [],
   "source": [
    "#I sample different levels in the range for extracting isosurfaces\n",
    "values = np.linspace(5, 150, num=25)"
   ]
  },
  {
   "cell_type": "code",
   "execution_count": 14,
   "metadata": {},
   "outputs": [],
   "source": [
    "surface = vol.contour([values[0]],)"
   ]
  },
  {
   "cell_type": "code",
   "execution_count": 19,
   "metadata": {},
   "outputs": [],
   "source": [
    "#compute the isosurfaces at the different levels\n",
    "surfaces = [vol.contour([v]) for v in values]\n"
   ]
  },
  {
   "cell_type": "code",
   "execution_count": 46,
   "metadata": {
    "scrolled": true
   },
   "outputs": [
    {
     "data": {
      "application/vnd.jupyter.widget-view+json": {
       "model_id": "37ae9b88f9814d82994119eb100140fd",
       "version_major": 2,
       "version_minor": 0
      },
      "text/plain": [
       "Widget(value=\"<iframe src='http://localhost:49906/index.html?ui=P_0x2850585ca90_33&reconnect=auto' style='widt…"
      ]
     },
     "metadata": {},
     "output_type": "display_data"
    }
   ],
   "source": [
    "# Take one of the isosurfaces and display\n",
    "\n",
    "p = pv.Plotter()\n",
    "p.clear()\n",
    "surface = surfaces[8].copy()\n",
    "actor = p.add_mesh(surface, opacity=1, clim=vol.get_data_range())\n",
    "actor.prop.diffuse = 1\n",
    "actor.prop.specular = 0.5\n",
    "\n",
    "# Add outline for reference\n",
    "#p.add_mesh(vol.outline_corners())\n",
    "light = pv.Light(light_type='headlight')\n",
    "p.add_light(light)\n",
    "p.show()"
   ]
  },
  {
   "cell_type": "code",
   "execution_count": null,
   "metadata": {},
   "outputs": [],
   "source": []
  },
  {
   "cell_type": "code",
   "execution_count": null,
   "metadata": {},
   "outputs": [],
   "source": []
  },
  {
   "cell_type": "code",
   "execution_count": null,
   "metadata": {},
   "outputs": [],
   "source": []
  }
 ],
 "metadata": {
  "kernelspec": {
   "display_name": "Python 3 (ipykernel)",
   "language": "python",
   "name": "python3"
  },
  "language_info": {
   "codemirror_mode": {
    "name": "ipython",
    "version": 3
   },
   "file_extension": ".py",
   "mimetype": "text/x-python",
   "name": "python",
   "nbconvert_exporter": "python",
   "pygments_lexer": "ipython3",
   "version": "3.9.13"
  }
 },
 "nbformat": 4,
 "nbformat_minor": 2
}
