{
 "cells": [
  {
   "cell_type": "code",
   "execution_count": 1,
   "id": "c4d587bb",
   "metadata": {},
   "outputs": [
    {
     "data": {
      "text/html": [
       "<div>\n",
       "<style scoped>\n",
       "    .dataframe tbody tr th:only-of-type {\n",
       "        vertical-align: middle;\n",
       "    }\n",
       "\n",
       "    .dataframe tbody tr th {\n",
       "        vertical-align: top;\n",
       "    }\n",
       "\n",
       "    .dataframe thead th {\n",
       "        text-align: right;\n",
       "    }\n",
       "</style>\n",
       "<table border=\"1\" class=\"dataframe\">\n",
       "  <thead>\n",
       "    <tr style=\"text-align: right;\">\n",
       "      <th></th>\n",
       "      <th>from</th>\n",
       "      <th>to</th>\n",
       "    </tr>\n",
       "  </thead>\n",
       "  <tbody>\n",
       "    <tr>\n",
       "      <th>0</th>\n",
       "      <td>A</td>\n",
       "      <td>D</td>\n",
       "    </tr>\n",
       "    <tr>\n",
       "      <th>1</th>\n",
       "      <td>B</td>\n",
       "      <td>A</td>\n",
       "    </tr>\n",
       "    <tr>\n",
       "      <th>2</th>\n",
       "      <td>C</td>\n",
       "      <td>E</td>\n",
       "    </tr>\n",
       "    <tr>\n",
       "      <th>3</th>\n",
       "      <td>A</td>\n",
       "      <td>C</td>\n",
       "    </tr>\n",
       "    <tr>\n",
       "      <th>4</th>\n",
       "      <td>E</td>\n",
       "      <td>A</td>\n",
       "    </tr>\n",
       "    <tr>\n",
       "      <th>5</th>\n",
       "      <td>F</td>\n",
       "      <td>F</td>\n",
       "    </tr>\n",
       "    <tr>\n",
       "      <th>6</th>\n",
       "      <td>E</td>\n",
       "      <td>G</td>\n",
       "    </tr>\n",
       "    <tr>\n",
       "      <th>7</th>\n",
       "      <td>G</td>\n",
       "      <td>D</td>\n",
       "    </tr>\n",
       "    <tr>\n",
       "      <th>8</th>\n",
       "      <td>G</td>\n",
       "      <td>B</td>\n",
       "    </tr>\n",
       "    <tr>\n",
       "      <th>9</th>\n",
       "      <td>D</td>\n",
       "      <td>G</td>\n",
       "    </tr>\n",
       "    <tr>\n",
       "      <th>10</th>\n",
       "      <td>F</td>\n",
       "      <td>C</td>\n",
       "    </tr>\n",
       "  </tbody>\n",
       "</table>\n",
       "</div>"
      ],
      "text/plain": [
       "   from to\n",
       "0     A  D\n",
       "1     B  A\n",
       "2     C  E\n",
       "3     A  C\n",
       "4     E  A\n",
       "5     F  F\n",
       "6     E  G\n",
       "7     G  D\n",
       "8     G  B\n",
       "9     D  G\n",
       "10    F  C"
      ]
     },
     "execution_count": 1,
     "metadata": {},
     "output_type": "execute_result"
    }
   ],
   "source": [
    "# libraries\n",
    "import pandas as pd\n",
    "import numpy as np\n",
    "import networkx as nx\n",
    "import matplotlib.pyplot as plt\n",
    " \n",
    "# Build a dataframe with your connections\n",
    "df = pd.DataFrame({ 'from':['A', 'B', 'C','A','E','F','E','G','G','D','F'], 'to':['D', 'A', 'E','C','A','F','G','D','B','G','C']})\n",
    "df\n",
    " "
   ]
  },
  {
   "cell_type": "markdown",
   "id": "7df2cc89",
   "metadata": {},
   "source": [
    "Networkx plot function and automatic layouts\n",
    "https://networkx.org/documentation/stable/reference/drawing.html#module-networkx.drawing.layout"
   ]
  },
  {
   "cell_type": "code",
   "execution_count": null,
   "id": "f07601b5",
   "metadata": {},
   "outputs": [],
   "source": [
    "# Build your graph\n",
    "G = nx.from_pandas_edgelist(df, 'from', 'to')\n",
    "\n",
    "S=[1000,1000,2000,2000,3000,4000,3000]\n",
    "\n",
    "# Fruchterman Reingold\n",
    "nx.draw(G, with_labels=True, node_size=S, node_color=\"skyblue\", pos=nx.fruchterman_reingold_layout(G))\n",
    "plt.title(\"fruchterman_reingold\")\n",
    "plt.show()\n",
    " \n",
    "# Circular\n",
    "nx.draw(G, with_labels=True, node_size=1500, node_color=\"skyblue\", pos=nx.circular_layout(G))\n",
    "plt.title(\"circular\")\n",
    "plt.show()\n",
    " \n",
    "# Random\n",
    "nx.draw(G, with_labels=True, node_size=1500, node_color=\"skyblue\", pos=nx.random_layout(G))\n",
    "plt.title(\"random\")\n",
    "plt.show()\n",
    " \n",
    "# Spectral\n",
    "nx.draw(G, with_labels=True, node_size=1500, node_color=\"skyblue\", pos=nx.spectral_layout(G))\n",
    "plt.title(\"spectral\")\n",
    "plt.show()\n",
    " \n",
    "# Spring\n",
    "nx.draw(G, with_labels=True, node_size=2000, node_color=\"skyblue\", pos=nx.spring_layout(G))\n",
    "plt.title(\"spring\")\n",
    "plt.show()\n",
    "\n"
   ]
  },
  {
   "cell_type": "markdown",
   "id": "c8d8f4ba",
   "metadata": {},
   "source": [
    "Organize tree visualization\n"
   ]
  },
  {
   "cell_type": "code",
   "execution_count": null,
   "id": "8fdf7255",
   "metadata": {},
   "outputs": [],
   "source": [
    "# Build a dataframe with your connections\n",
    "df = pd.DataFrame({ 'from':['A', 'A', 'A','B','B','C','C'], 'to':['B', 'C', 'D', 'E','F','G','H']})\n",
    "G=nx.from_pandas_edgelist(df, 'from', 'to')\n",
    "df"
   ]
  },
  {
   "cell_type": "code",
   "execution_count": null,
   "id": "78a9912a",
   "metadata": {},
   "outputs": [],
   "source": [
    "def hierarchy_pos(G, root=None, width=1., vert_gap = 0.2, vert_loc = 0, xcenter = 0.5):\n",
    "\n",
    "    '''\n",
    "    From Joel's answer at https://stackoverflow.com/a/29597209/2966723.  \n",
    "    Licensed under Creative Commons Attribution-Share Alike \n",
    "    \n",
    "    If the graph is a tree this will return the positions to plot this in a \n",
    "    hierarchical layout.\n",
    "    \n",
    "    G: the graph (must be a tree)\n",
    "    \n",
    "    root: the root node of current branch \n",
    "    - if the tree is directed and this is not given, \n",
    "      the root will be found and used\n",
    "    - if the tree is directed and this is given, then \n",
    "      the positions will be just for the descendants of this node.\n",
    "    - if the tree is undirected and not given, \n",
    "      then a random choice will be used.\n",
    "    \n",
    "    width: horizontal space allocated for this branch - avoids overlap with other branches\n",
    "    \n",
    "    vert_gap: gap between levels of hierarchy\n",
    "    \n",
    "    vert_loc: vertical location of root\n",
    "    \n",
    "    xcenter: horizontal location of root\n",
    "    '''\n",
    "    if not nx.is_tree(G):\n",
    "        raise TypeError('cannot use hierarchy_pos on a graph that is not a tree')\n",
    "\n",
    "    if root is None:\n",
    "        if isinstance(G, nx.DiGraph):\n",
    "            root = next(iter(nx.topological_sort(G)))  #allows back compatibility with nx version 1.11\n",
    "        else:\n",
    "            root = random.choice(list(G.nodes))\n",
    "\n",
    "    def _hierarchy_pos(G, root, width=1., vert_gap = 0.2, vert_loc = 0, xcenter = 0.5, pos = None, parent = None):\n",
    "        '''\n",
    "        see hierarchy_pos docstring for most arguments\n",
    "\n",
    "        pos: a dict saying where all nodes go if they have been assigned\n",
    "        parent: parent of this branch. - only affects it if non-directed\n",
    "\n",
    "        '''\n",
    "    \n",
    "        if pos is None:\n",
    "            pos = {root:(xcenter,vert_loc)}\n",
    "        else:\n",
    "            pos[root] = (xcenter, vert_loc)\n",
    "        children = list(G.neighbors(root))\n",
    "        if not isinstance(G, nx.DiGraph) and parent is not None:\n",
    "            children.remove(parent)  \n",
    "        if len(children)!=0:\n",
    "            dx = width/len(children) \n",
    "            nextx = xcenter - width/2 - dx/2\n",
    "            for child in children:\n",
    "                nextx += dx\n",
    "                pos = _hierarchy_pos(G,child, width = dx, vert_gap = vert_gap, \n",
    "                                    vert_loc = vert_loc-vert_gap, xcenter=nextx,\n",
    "                                    pos=pos, parent = root)\n",
    "        return pos\n",
    "\n",
    "            \n",
    "    return _hierarchy_pos(G, root, width, vert_gap, vert_loc, xcenter)\n",
    "\n",
    "values=[1000, 1400, 1200, 1000, 200, 600, 600, 400]\n",
    "# Random\n",
    "pos = hierarchy_pos(G,'A')   \n",
    "nx.draw(G, with_labels=True, node_size=values, node_color=\"skyblue\", pos=pos)\n",
    "\n",
    "\n",
    "plt.title(\"tree\")\n",
    "plt.show()"
   ]
  },
  {
   "cell_type": "markdown",
   "id": "27b554ed",
   "metadata": {},
   "source": [
    "<h3> Treemap in plotly"
   ]
  },
  {
   "cell_type": "code",
   "execution_count": null,
   "id": "98c52bbf",
   "metadata": {},
   "outputs": [],
   "source": [
    "import pandas as pd\n",
    "import numpy as np\n",
    "\n",
    "import plotly.express as px"
   ]
  },
  {
   "cell_type": "code",
   "execution_count": null,
   "id": "b06f156a",
   "metadata": {},
   "outputs": [],
   "source": [
    "\n",
    "\n",
    "fig = px.treemap(\n",
    "    names = [\"A\", \"B\", \"C\",\"D\",\"E\",\"F\",\"G\",\"H\"],\n",
    "    parents=[\"\", \"A\", \"A\", \"A\", \"B\", \"B\", \"C\", \"C\" ],\n",
    "    values=[10, 14, 12, 10, 2, 6, 6, 4]\n",
    ")\n",
    "  \n",
    "fig.show()"
   ]
  },
  {
   "cell_type": "markdown",
   "id": "b85f8468",
   "metadata": {},
   "source": [
    "Sunburst in plotly"
   ]
  },
  {
   "cell_type": "code",
   "execution_count": null,
   "id": "d9e86c23",
   "metadata": {
    "scrolled": true
   },
   "outputs": [],
   "source": [
    "fig =px.sunburst(\n",
    "    names = [\"A\", \"B\", \"C\",\"D\",\"E\",\"F\",\"G\",\"H\"],\n",
    "    parents=[\"\", \"\", \"A\", \"A\", \"B\", \"B\", \"C\", \"C\" ],\n",
    "    values=[10, 14, 12, 10, 2, 6, 6, 4]\n",
    ")\n",
    "fig.show()"
   ]
  },
  {
   "cell_type": "markdown",
   "id": "9ad0266e",
   "metadata": {},
   "source": [
    "Exercise: think about different task on tree visualizations and which could be the best solution given the previous examples\n",
    "    "
   ]
  },
  {
   "cell_type": "markdown",
   "id": "c5bba087",
   "metadata": {},
   "source": [
    "<h3> Interactive network </h3>\n",
    "We can use pyvis to display interactive node-link diagrams"
   ]
  },
  {
   "cell_type": "code",
   "execution_count": null,
   "id": "20d2cfd5",
   "metadata": {},
   "outputs": [],
   "source": [
    "from pyvis.network import Network \n",
    "import networkx as nx"
   ]
  },
  {
   "cell_type": "code",
   "execution_count": null,
   "id": "4722e497",
   "metadata": {},
   "outputs": [],
   "source": [
    "net = Network(notebook=True)\n",
    "net.add_nodes([1, 2, 3, 4], \n",
    "label=['A', 'B', 'C', 'D'],\n",
    "color=['#3da831', '#9a31a8', '#3155a8', '#eb4034'])\n",
    "net.show('list_of_nodes_with_color.html')"
   ]
  },
  {
   "cell_type": "code",
   "execution_count": null,
   "id": "6ea28caf",
   "metadata": {
    "scrolled": true
   },
   "outputs": [],
   "source": [
    "net.add_edges([(1, 2), (3, 4), (1, 3)])\n",
    "net.show('edges.html')"
   ]
  },
  {
   "cell_type": "code",
   "execution_count": null,
   "id": "d1874409",
   "metadata": {},
   "outputs": [],
   "source": [
    "net.add_edge(1, 4, value=2)\n",
    "net.show('edges_with_weights.html')"
   ]
  },
  {
   "cell_type": "code",
   "execution_count": null,
   "id": "a8e9438d",
   "metadata": {},
   "outputs": [],
   "source": [
    "#change default parameters\n",
    "net.repulsion(node_distance=30, spring_length=100)\n",
    "net.show('edges_with_weight.html')\n",
    "#net.save_graph('edges_with_weight.html')"
   ]
  },
  {
   "cell_type": "markdown",
   "id": "5fbff19e",
   "metadata": {},
   "source": [
    "we can add GUI elements!"
   ]
  },
  {
   "cell_type": "code",
   "execution_count": null,
   "id": "e5f9ea4d",
   "metadata": {
    "scrolled": true
   },
   "outputs": [],
   "source": [
    "net.show_buttons(filter_=True)\n",
    "net.show('edges_with_weights.html')"
   ]
  },
  {
   "cell_type": "markdown",
   "id": "ecba2600",
   "metadata": {},
   "source": [
    "directed graphs:"
   ]
  },
  {
   "cell_type": "code",
   "execution_count": null,
   "id": "f5fea522",
   "metadata": {},
   "outputs": [],
   "source": [
    "net = Network(\n",
    "    notebook=True,\n",
    "    directed=True\n",
    ")\n",
    "net.add_nodes([1, 2, 3, 4], \n",
    "label=['A', 'B', 'C', 'D'],\n",
    "color=['#3da831', '#9a31a8', '#3155a8', '#eb4034'])\n",
    "net.show('list_of_nodes_with_color.html')\n",
    "net.add_edges([(1, 2), (3, 4), (1, 3)])\n",
    "\n",
    "net.show('edges_with_weights.html')"
   ]
  },
  {
   "cell_type": "markdown",
   "id": "7ce643e1",
   "metadata": {},
   "source": [
    "we can import networks from the Networkx encoding"
   ]
  },
  {
   "cell_type": "code",
   "execution_count": null,
   "id": "3c512517",
   "metadata": {},
   "outputs": [],
   "source": [
    "g = Network(notebook=True)\n",
    "nxg=nx.complete_graph(5)\n",
    "g.from_nx(nxg)\n",
    "g.show(\"network.html\")"
   ]
  },
  {
   "cell_type": "code",
   "execution_count": null,
   "id": "e6b67a58",
   "metadata": {},
   "outputs": [],
   "source": []
  },
  {
   "cell_type": "markdown",
   "id": "68f8775c",
   "metadata": {},
   "source": [
    "Building node-link diagram with plotly (scatter plot)"
   ]
  },
  {
   "cell_type": "code",
   "execution_count": null,
   "id": "8932a0a6",
   "metadata": {},
   "outputs": [],
   "source": [
    "import plotly.graph_objects as go\n",
    "G = nx.random_geometric_graph(200, 0.125)\n",
    "\n",
    "edge_x = []\n",
    "edge_y = []\n",
    "for edge in G.edges():\n",
    "    x0, y0 = G.nodes[edge[0]]['pos']\n",
    "    x1, y1 = G.nodes[edge[1]]['pos']\n",
    "    edge_x.append(x0)\n",
    "    edge_x.append(x1)\n",
    "    edge_x.append(None)\n",
    "    edge_y.append(y0)\n",
    "    edge_y.append(y1)\n",
    "    edge_y.append(None)\n",
    "\n",
    "edge_trace = go.Scatter(\n",
    "    x=edge_x, y=edge_y,\n",
    "    line=dict(width=0.5, color='#888'),\n",
    "    hoverinfo='none',\n",
    "    mode='lines')\n",
    "\n",
    "node_x = []\n",
    "node_y = []\n",
    "for node in G.nodes():\n",
    "    x, y = G.nodes[node]['pos']\n",
    "    node_x.append(x)\n",
    "    node_y.append(y)\n",
    "\n",
    "node_trace = go.Scatter(\n",
    "    x=node_x, y=node_y,\n",
    "    mode='markers',\n",
    "    hoverinfo='text',\n",
    "    marker=dict(\n",
    "        showscale=True,\n",
    "        # colorscale options\n",
    "        #'Greys' | 'YlGnBu' | 'Greens' | 'YlOrRd' | 'Bluered' | 'RdBu' |\n",
    "        #'Reds' | 'Blues' | 'Picnic' | 'Rainbow' | 'Portland' | 'Jet' |\n",
    "        #'Hot' | 'Blackbody' | 'Earth' | 'Electric' | 'Viridis' |\n",
    "        colorscale='YlGnBu',\n",
    "        reversescale=True,\n",
    "        color=[],\n",
    "        size=10,\n",
    "        colorbar=dict(\n",
    "            thickness=15,\n",
    "            title='Node Connections',\n",
    "            xanchor='left',\n",
    "            titleside='right'\n",
    "        ),\n",
    "        line_width=2))"
   ]
  },
  {
   "cell_type": "code",
   "execution_count": null,
   "id": "7fcff6ff",
   "metadata": {},
   "outputs": [],
   "source": [
    "fig = go.Figure(data=[edge_trace, node_trace],\n",
    "             layout=go.Layout(\n",
    "                title='Network graph made with Python',\n",
    "                titlefont_size=16,\n",
    "                showlegend=False,\n",
    "                hovermode='closest',\n",
    "                margin=dict(b=20,l=5,r=5,t=40),\n",
    "                annotations=[ dict(\n",
    "                    text=\"\",\n",
    "                    showarrow=False,\n",
    "                    xref=\"paper\", yref=\"paper\",\n",
    "                    x=0.005, y=-0.002 ) ],\n",
    "                xaxis=dict(showgrid=False, zeroline=False, showticklabels=False),\n",
    "                yaxis=dict(showgrid=False, zeroline=False, showticklabels=False))\n",
    "                )\n",
    "fig.show()"
   ]
  },
  {
   "cell_type": "markdown",
   "id": "09d70cab",
   "metadata": {},
   "source": [
    "Exercise: using data of previous  lectures, create a treemap visualization for GDP or population or covid cases in different continent->countries mapping values with color\n",
    "Look at plotly documentation/examples\n"
   ]
  },
  {
   "cell_type": "code",
   "execution_count": null,
   "id": "01676244",
   "metadata": {},
   "outputs": [],
   "source": []
  }
 ],
 "metadata": {
  "kernelspec": {
   "display_name": "Python 3 (ipykernel)",
   "language": "python",
   "name": "python3"
  },
  "language_info": {
   "codemirror_mode": {
    "name": "ipython",
    "version": 3
   },
   "file_extension": ".py",
   "mimetype": "text/x-python",
   "name": "python",
   "nbconvert_exporter": "python",
   "pygments_lexer": "ipython3",
   "version": "3.9.13"
  }
 },
 "nbformat": 4,
 "nbformat_minor": 5
}
