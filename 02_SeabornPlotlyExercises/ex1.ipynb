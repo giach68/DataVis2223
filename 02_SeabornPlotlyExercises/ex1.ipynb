{
 "cells": [
  {
   "cell_type": "markdown",
   "metadata": {},
   "source": [
    "Data: foreign people living in Verona (from public web site)"
   ]
  },
  {
   "cell_type": "code",
   "execution_count": 1,
   "metadata": {
    "scrolled": false
   },
   "outputs": [
    {
     "data": {
      "text/html": [
       "<div>\n",
       "<style scoped>\n",
       "    .dataframe tbody tr th:only-of-type {\n",
       "        vertical-align: middle;\n",
       "    }\n",
       "\n",
       "    .dataframe tbody tr th {\n",
       "        vertical-align: top;\n",
       "    }\n",
       "\n",
       "    .dataframe thead th {\n",
       "        text-align: right;\n",
       "    }\n",
       "</style>\n",
       "<table border=\"1\" class=\"dataframe\">\n",
       "  <thead>\n",
       "    <tr style=\"text-align: right;\">\n",
       "      <th></th>\n",
       "      <th>Circoscrizione</th>\n",
       "      <th>Nazione</th>\n",
       "      <th>Immigrati</th>\n",
       "    </tr>\n",
       "  </thead>\n",
       "  <tbody>\n",
       "    <tr>\n",
       "      <th>0</th>\n",
       "      <td>CENTRO-STORICO</td>\n",
       "      <td>AFGANA</td>\n",
       "      <td>8.0</td>\n",
       "    </tr>\n",
       "    <tr>\n",
       "      <th>1</th>\n",
       "      <td>CENTRO-STORICO</td>\n",
       "      <td>ALBANESE</td>\n",
       "      <td>180.0</td>\n",
       "    </tr>\n",
       "    <tr>\n",
       "      <th>2</th>\n",
       "      <td>CENTRO-STORICO</td>\n",
       "      <td>ALGERINA</td>\n",
       "      <td>13.0</td>\n",
       "    </tr>\n",
       "    <tr>\n",
       "      <th>3</th>\n",
       "      <td>CENTRO-STORICO</td>\n",
       "      <td>ANGOLANA</td>\n",
       "      <td>22.0</td>\n",
       "    </tr>\n",
       "    <tr>\n",
       "      <th>4</th>\n",
       "      <td>CENTRO-STORICO</td>\n",
       "      <td>APOLIDE</td>\n",
       "      <td>1.0</td>\n",
       "    </tr>\n",
       "  </tbody>\n",
       "</table>\n",
       "</div>"
      ],
      "text/plain": [
       "   Circoscrizione   Nazione  Immigrati\n",
       "0  CENTRO-STORICO    AFGANA        8.0\n",
       "1  CENTRO-STORICO  ALBANESE      180.0\n",
       "2  CENTRO-STORICO  ALGERINA       13.0\n",
       "3  CENTRO-STORICO  ANGOLANA       22.0\n",
       "4  CENTRO-STORICO   APOLIDE        1.0"
      ]
     },
     "execution_count": 1,
     "metadata": {},
     "output_type": "execute_result"
    }
   ],
   "source": [
    "import pandas as pd\n",
    "\n",
    "vrdata = pd.read_csv(\"data/immigrazioneverona.csv\") \n",
    "vrdata.head()"
   ]
  },
  {
   "cell_type": "markdown",
   "metadata": {},
   "source": [
    "Esercise: data/task abstraction\n",
    "task: plot distributions of nationalities of foreign people living in the different areas of verona\n",
    "\n",
    "Stacked bar chart?\n",
    "Normalized?\n",
    "Small multiples with pie charts?\n",
    "You may compare methods\n",
    "\n",
    "Keep only most represented nationalities (filter data)"
   ]
  },
  {
   "cell_type": "code",
   "execution_count": 2,
   "metadata": {},
   "outputs": [
    {
     "name": "stdout",
     "output_type": "stream",
     "text": [
      "      Circoscrizione      Nazione  Immigrati\n",
      "0     CENTRO-STORICO       AFGANA        8.0\n",
      "1     CENTRO-STORICO     ALBANESE      180.0\n",
      "2     CENTRO-STORICO     ALGERINA       13.0\n",
      "3     CENTRO-STORICO     ANGOLANA       22.0\n",
      "4     CENTRO-STORICO      APOLIDE        1.0\n",
      "...              ...          ...        ...\n",
      "1131       SUD-OVEST       UZBECA        NaN\n",
      "1132       SUD-OVEST  VENEZUELANA        NaN\n",
      "1133       SUD-OVEST   VIETNAMITA        2.0\n",
      "1134       SUD-OVEST    YUGOSLAVA       25.0\n",
      "1135       SUD-OVEST      ZAMBESE        NaN\n",
      "\n",
      "[1136 rows x 3 columns]\n"
     ]
    }
   ],
   "source": [
    "print(vrdata)"
   ]
  },
  {
   "cell_type": "code",
   "execution_count": 3,
   "metadata": {},
   "outputs": [],
   "source": [
    "df_sub = vrdata[ vrdata['Immigrati'] > 10 ]\n"
   ]
  },
  {
   "cell_type": "code",
   "execution_count": 4,
   "metadata": {},
   "outputs": [
    {
     "name": "stdout",
     "output_type": "stream",
     "text": [
      "      Circoscrizione     Nazione  Immigrati\n",
      "1     CENTRO-STORICO    ALBANESE      180.0\n",
      "2     CENTRO-STORICO    ALGERINA       13.0\n",
      "3     CENTRO-STORICO    ANGOLANA       22.0\n",
      "5     CENTRO-STORICO   ARGENTINA       13.0\n",
      "9     CENTRO-STORICO  BANGLADESH       64.0\n",
      "...              ...         ...        ...\n",
      "1105       SUD-OVEST       SERBA       47.0\n",
      "1112       SUD-OVEST  SRILANKESE     1255.0\n",
      "1125       SUD-OVEST    TUNISINA       76.0\n",
      "1127       SUD-OVEST     UCRAINA       59.0\n",
      "1134       SUD-OVEST   YUGOSLAVA       25.0\n",
      "\n",
      "[269 rows x 3 columns]\n"
     ]
    }
   ],
   "source": [
    "print(df_sub)"
   ]
  },
  {
   "cell_type": "code",
   "execution_count": null,
   "metadata": {},
   "outputs": [],
   "source": []
  },
  {
   "cell_type": "code",
   "execution_count": null,
   "metadata": {},
   "outputs": [],
   "source": []
  },
  {
   "cell_type": "code",
   "execution_count": null,
   "metadata": {},
   "outputs": [],
   "source": []
  }
 ],
 "metadata": {
  "kernelspec": {
   "display_name": "Python 3 (ipykernel)",
   "language": "python",
   "name": "python3"
  },
  "language_info": {
   "codemirror_mode": {
    "name": "ipython",
    "version": 3
   },
   "file_extension": ".py",
   "mimetype": "text/x-python",
   "name": "python",
   "nbconvert_exporter": "python",
   "pygments_lexer": "ipython3",
   "version": "3.9.13"
  }
 },
 "nbformat": 4,
 "nbformat_minor": 2
}
